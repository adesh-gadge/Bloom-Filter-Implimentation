{
 "cells": [
  {
   "cell_type": "markdown",
   "metadata": {},
   "source": [
    "# Bloom Filter \n",
    "### A Bloom filter is a data structure designed to tell you, rapidly and memory-efficiently, whether an element is present in a set. \n",
    "### Bloom filter does not have False Negatives but does have False Positives due to collisions.\n",
    "\n",
    "### Data :\n",
    "Given data consists of two text files: (1) Username lists which are known to be spams & (2) General Username lists.\n",
    "<br>\n",
    "Detect spam usernames in the (2) General usernames list \n"
   ]
  },
  {
   "cell_type": "code",
   "execution_count": 0,
   "metadata": {
    "colab": {
     "base_uri": "https://localhost:8080/",
     "height": 188
    },
    "colab_type": "code",
    "id": "76GKZC1YcwUo",
    "outputId": "4fec4024-0439-44a9-86bf-c4d541b4e5cc"
   },
   "outputs": [
    {
     "name": "stdout",
     "output_type": "stream",
     "text": [
      "Collecting mmh3\n",
      "  Downloading https://files.pythonhosted.org/packages/fa/7e/3ddcab0a9fcea034212c02eb411433db9330e34d626360b97333368b4052/mmh3-2.5.1.tar.gz\n",
      "Building wheels for collected packages: mmh3\n",
      "  Building wheel for mmh3 (setup.py) ... \u001b[?25l\u001b[?25hdone\n",
      "  Created wheel for mmh3: filename=mmh3-2.5.1-cp36-cp36m-linux_x86_64.whl size=37865 sha256=31d20979aaa5d3a0bfe30008289a76f649c74d2053279831a2a7e7806b3ed79d\n",
      "  Stored in directory: /root/.cache/pip/wheels/38/b4/ea/6e4e321c625d3320c0c496bf4088371546d8fce5f1dd71b219\n",
      "Successfully built mmh3\n",
      "Installing collected packages: mmh3\n",
      "Successfully installed mmh3-2.5.1\n"
     ]
    }
   ],
   "source": [
    "!pip install mmh3"
   ]
  },
  {
   "cell_type": "code",
   "execution_count": 0,
   "metadata": {
    "colab": {
     "base_uri": "https://localhost:8080/",
     "height": 205
    },
    "colab_type": "code",
    "id": "f9mymKMQiRyr",
    "outputId": "e46b35ae-4b54-4137-cbec-3b5f476cc994"
   },
   "outputs": [
    {
     "name": "stdout",
     "output_type": "stream",
     "text": [
      "Collecting bitarray\n",
      "\u001b[?25l  Downloading https://files.pythonhosted.org/packages/8a/cf/098522ff2d1a8679ce15396cf0cc25d60ae6327b805532ad092feec1a4fd/bitarray-1.1.0.tar.gz (40kB)\n",
      "\r",
      "\u001b[K     |████████▏                       | 10kB 16.6MB/s eta 0:00:01\r",
      "\u001b[K     |████████████████▍               | 20kB 1.7MB/s eta 0:00:01\r",
      "\u001b[K     |████████████████████████▌       | 30kB 2.5MB/s eta 0:00:01\r",
      "\u001b[K     |████████████████████████████████| 40kB 2.2MB/s \n",
      "\u001b[?25hBuilding wheels for collected packages: bitarray\n",
      "  Building wheel for bitarray (setup.py) ... \u001b[?25l\u001b[?25hdone\n",
      "  Created wheel for bitarray: filename=bitarray-1.1.0-cp36-cp36m-linux_x86_64.whl size=86461 sha256=10bb3b72337d2f32b08acb934ca5568ba72ab7b22b48e938b2a7a732b1efa1ab\n",
      "  Stored in directory: /root/.cache/pip/wheels/f8/e2/a6/4c8e33fba3f97ee5feff7c64341dc3abcd6aa540627e63f1b2\n",
      "Successfully built bitarray\n",
      "Installing collected packages: bitarray\n",
      "Successfully installed bitarray-1.1.0\n"
     ]
    }
   ],
   "source": [
    "!pip install bitarray"
   ]
  },
  {
   "cell_type": "code",
   "execution_count": 0,
   "metadata": {
    "colab": {
     "base_uri": "https://localhost:8080/",
     "height": 121
    },
    "colab_type": "code",
    "id": "aZhMuSTGhftW",
    "outputId": "136f5570-d296-4477-b0fa-73c01919c26e"
   },
   "outputs": [
    {
     "name": "stdout",
     "output_type": "stream",
     "text": [
      "Go to this URL in a browser: https://accounts.google.com/o/oauth2/auth?client_id=947318989803-6bn6qk8qdgf4n4g3pfee6491hc0brc4i.apps.googleusercontent.com&redirect_uri=urn%3aietf%3awg%3aoauth%3a2.0%3aoob&response_type=code&scope=email%20https%3a%2f%2fwww.googleapis.com%2fauth%2fdocs.test%20https%3a%2f%2fwww.googleapis.com%2fauth%2fdrive%20https%3a%2f%2fwww.googleapis.com%2fauth%2fdrive.photos.readonly%20https%3a%2f%2fwww.googleapis.com%2fauth%2fpeopleapi.readonly\n",
      "\n",
      "Enter your authorization code:\n",
      "··········\n",
      "Mounted at /content/drive\n"
     ]
    }
   ],
   "source": [
    "from google.colab import drive\n",
    "drive.mount('/content/drive')\n",
    "root_path = 'gdrive/My Drive/Colab Notebooks/'  #change dir to your project folder"
   ]
  },
  {
   "cell_type": "code",
   "execution_count": 0,
   "metadata": {
    "colab": {
     "base_uri": "https://localhost:8080/",
     "height": 34
    },
    "colab_type": "code",
    "id": "lx87mGd1WEEP",
    "outputId": "175d041a-85db-4c16-9e4b-ba10dc2d652d"
   },
   "outputs": [
    {
     "name": "stdout",
     "output_type": "stream",
     "text": [
      "/content/drive/My Drive/Colab Notebooks\n"
     ]
    }
   ],
   "source": [
    "%cd "
   ]
  },
  {
   "cell_type": "markdown",
   "metadata": {},
   "source": [
    "### Reading Spam usernames"
   ]
  },
  {
   "cell_type": "code",
   "execution_count": 0,
   "metadata": {
    "colab": {},
    "colab_type": "code",
    "id": "3QQiODcxdUZn"
   },
   "outputs": [],
   "source": [
    "# Reading Spam usernames\n",
    "spam_usernames = []\n",
    "with open(\"listed_username_30.txt\", \"r\") as f:\n",
    "    for line in f:\n",
    "        line = line.replace('\\n','')\n",
    "        spam_usernames.append(line)"
   ]
  },
  {
   "cell_type": "markdown",
   "metadata": {},
   "source": [
    "### Reading Listed usernames"
   ]
  },
  {
   "cell_type": "code",
   "execution_count": null,
   "metadata": {},
   "outputs": [],
   "source": [
    "# reading listed usernames\n",
    "detect_spam =[]\n",
    "with open(\"listed_username_365.txt\", \"r\") as f:\n",
    "    for line in f:\n",
    "        line = line.replace('\\n','')\n",
    "        detect_spam.append(line)"
   ]
  },
  {
   "cell_type": "markdown",
   "metadata": {},
   "source": [
    "### Setting up the bitarray\n",
    "#### Using python wrapper for MurmurHash as a hash function and bitarray package to provide a bitarray B"
   ]
  },
  {
   "cell_type": "code",
   "execution_count": 0,
   "metadata": {
    "colab": {},
    "colab_type": "code",
    "id": "8JunK1itgV7u"
   },
   "outputs": [],
   "source": [
    "import mmh3\n",
    "import math\n",
    "from bitarray import bitarray \n",
    "import pandas as pd\n",
    "import numpy as np\n",
    "n = 8000000\n",
    "m= len(spam_usernames)\n",
    "#setting up optimal k for given n and m       (defined below)\n",
    "k= get_optimum_k(n,m)\n",
    "# Setting BitArray\n",
    "B = bitarray(n)\n",
    "B.setall(0)"
   ]
  },
  {
   "cell_type": "markdown",
   "metadata": {},
   "source": [
    "### Calculating optimum k\n"
   ]
  },
  {
   "cell_type": "code",
   "execution_count": 0,
   "metadata": {
    "colab": {},
    "colab_type": "code",
    "id": "E5Bujx7GffTW"
   },
   "outputs": [],
   "source": [
    "# optimal k calculation\n",
    "def get_optimum_k(n,m):\n",
    "  return (round(n/m*math.log(2)))\n"
   ]
  },
  {
   "cell_type": "markdown",
   "metadata": {},
   "source": [
    "### Updating filter based on new entry present in the set"
   ]
  },
  {
   "cell_type": "code",
   "execution_count": null,
   "metadata": {
    "colab": {},
    "colab_type": "code",
    "id": "Tl7JXe65SVQl"
   },
   "outputs": [],
   "source": [
    "# updating bloom filter based on new entry\n",
    "def update(name,k,n,B): \n",
    "  #z=[] \n",
    "  for i in range(0,k):\n",
    "    maps=mmh3.hash(name,i) % n \n",
    "   # z.append(map)\n",
    "    B[maps]= True\n",
    "  return B"
   ]
  },
  {
   "cell_type": "markdown",
   "metadata": {},
   "source": [
    "### Function to check if the given entry is present in the set \n"
   ]
  },
  {
   "cell_type": "code",
   "execution_count": 0,
   "metadata": {
    "colab": {},
    "colab_type": "code",
    "id": "oC8SmYp3YwRH"
   },
   "outputs": [],
   "source": [
    "# Checking if it is a spam or not\n",
    "def detect(B,word,n,k):\n",
    "  detection = True\n",
    "  for i in range(0,k):\n",
    "    maps=mmh3.hash(word,i) % n\n",
    "    if(B[maps]==False):\n",
    "      detection = False\n",
    "      return detection\n",
    "  return detection\n",
    "    "
   ]
  },
  {
   "cell_type": "markdown",
   "metadata": {},
   "source": [
    "### Making the bloom filter (setting up the bit array for the given set)"
   ]
  },
  {
   "cell_type": "code",
   "execution_count": 0,
   "metadata": {
    "colab": {},
    "colab_type": "code",
    "id": "vXsTa0XoRr_A"
   },
   "outputs": [],
   "source": [
    "# making the bloom filter for our example\n",
    "for z in spam_usernames:\n",
    "  B = update(z,k,n,B)\n",
    "  \n"
   ]
  },
  {
   "cell_type": "markdown",
   "metadata": {},
   "source": [
    "###  Counting the spam email addresses\n"
   ]
  },
  {
   "cell_type": "code",
   "execution_count": 0,
   "metadata": {
    "colab": {
     "base_uri": "https://localhost:8080/",
     "height": 34
    },
    "colab_type": "code",
    "id": "CIe7rwPQYa_W",
    "outputId": "08ccb237-fc60-4e65-988b-3f1f949e3b3f"
   },
   "outputs": [
    {
     "name": "stdout",
     "output_type": "stream",
     "text": [
      "Time:  3.023814152000341\n"
     ]
    }
   ],
   "source": [
    "PredictSpam=ActualSpam=0\n",
    "start = timeit.default_timer()\n",
    "for z in detect_spam:\n",
    "   PredictSpam=PredictSpam+detect(B,z,n,k)\n",
    "   #if z in spam_usernames:\n",
    "   #  ActualSpam=ActualSpam+1\n",
    "stop = timeit.default_timer()\n",
    "\n",
    "print('Time: ', stop - start) "
   ]
  },
  {
   "cell_type": "code",
   "execution_count": 0,
   "metadata": {
    "colab": {
     "base_uri": "https://localhost:8080/",
     "height": 34
    },
    "colab_type": "code",
    "id": "QkpccCuzryTn",
    "outputId": "509372d2-9d04-49fd-8a8e-31ed0c2ef9aa"
   },
   "outputs": [
    {
     "name": "stdout",
     "output_type": "stream",
     "text": [
      "Time:  1.8319999981031287e-05\n"
     ]
    }
   ],
   "source": [
    "import timeit\n",
    "\n",
    "start = timeit.default_timer()\n",
    "\n",
    "#Your statements here\n",
    "\n",
    "stop = timeit.default_timer()\n",
    "\n",
    "print('Time: ', stop - start) "
   ]
  },
  {
   "cell_type": "code",
   "execution_count": 0,
   "metadata": {
    "colab": {
     "base_uri": "https://localhost:8080/",
     "height": 34
    },
    "colab_type": "code",
    "id": "EjEQHHySrPZo",
    "outputId": "af1fd9da-6419-403b-fa6e-adcd414239dd"
   },
   "outputs": [
    {
     "name": "stdout",
     "output_type": "stream",
     "text": [
      "Time:  10512.70556504366\n"
     ]
    }
   ],
   "source": [
    "start = timeit.default_timer()\n",
    "for z in detect_spam: \n",
    "   if z in spam_usernames:\n",
    "     ActualSpam=ActualSpam+1\n",
    "     break;\n",
    "stop = timeit.default_timer()\n",
    "\n",
    "print('Time: ', (stop - start)*len(detect_spam)*len(spam_usernames)/(60*60))      "
   ]
  },
  {
   "cell_type": "code",
   "execution_count": 0,
   "metadata": {
    "colab": {
     "base_uri": "https://localhost:8080/",
     "height": 34
    },
    "colab_type": "code",
    "id": "qCaRgU1KbtjV",
    "outputId": "39f56608-81d3-4b2e-9d94-0544f358cfcf"
   },
   "outputs": [
    {
     "data": {
      "text/plain": [
       "106212"
      ]
     },
     "execution_count": 79,
     "metadata": {
      "tags": []
     },
     "output_type": "execute_result"
    }
   ],
   "source": [
    "ActualSpam"
   ]
  },
  {
   "cell_type": "code",
   "execution_count": 0,
   "metadata": {
    "colab": {
     "base_uri": "https://localhost:8080/",
     "height": 34
    },
    "colab_type": "code",
    "id": "SdkSJTc7bMkr",
    "outputId": "4b212b99-da2b-4917-8877-1a747d2b3607"
   },
   "outputs": [
    {
     "data": {
      "text/plain": [
       "1317440"
      ]
     },
     "execution_count": 97,
     "metadata": {
      "tags": []
     },
     "output_type": "execute_result"
    }
   ],
   "source": [
    "PredictSpam"
   ]
  },
  {
   "cell_type": "code",
   "execution_count": 0,
   "metadata": {
    "colab": {},
    "colab_type": "code",
    "id": "DLewJ2REzR4y"
   },
   "outputs": [],
   "source": [
    "# Percentage of false positives\n",
    "def false_positive_percentage(k,m,n):\n",
    "  return (1-math.exp(-k*m/n))**k\n"
   ]
  },
  {
   "cell_type": "code",
   "execution_count": 0,
   "metadata": {
    "colab": {
     "base_uri": "https://localhost:8080/",
     "height": 1000
    },
    "colab_type": "code",
    "id": "QUy9_4lA4i8i",
    "outputId": "1755e35d-6eff-4562-f73f-f268bdd38291"
   },
   "outputs": [
    {
     "name": "stdout",
     "output_type": "stream",
     "text": [
      "0\n",
      "1.0\n",
      "1\n",
      "0.02829352443674915\n",
      "2\n",
      "0.0031121364104527306\n",
      "3\n",
      "0.0005615493649445779\n",
      "4\n",
      "0.00013838628291538863\n",
      "5\n",
      "4.2699690446096474e-05\n",
      "6\n",
      "1.567421758173003e-05\n",
      "7\n",
      "6.618195685508595e-06\n",
      "8\n",
      "3.1384025386340147e-06\n",
      "9\n",
      "1.6419363872832447e-06\n",
      "10\n",
      "9.347539236847525e-07\n",
      "11\n",
      "5.727536125995475e-07\n",
      "12\n",
      "3.743608901134159e-07\n",
      "13\n",
      "2.5909030561260956e-07\n",
      "14\n",
      "1.8868852092470696e-07\n",
      "15\n",
      "1.4383644007980983e-07\n",
      "16\n",
      "1.1424485321988916e-07\n",
      "17\n",
      "9.417231976620824e-08\n",
      "18\n",
      "8.028177588079652e-08\n",
      "19\n",
      "7.056409004404794e-08\n",
      "20\n",
      "6.377335043325757e-08\n",
      "21\n",
      "5.911887927562823e-08\n",
      "22\n",
      "5.609139747926816e-08\n",
      "23\n",
      "5.43619524465315e-08\n",
      "24\n",
      "5.372170808831857e-08\n",
      "25\n",
      "5.4045459332356646e-08\n",
      "26\n",
      "5.526938975085958e-08\n",
      "27\n",
      "5.737769354616752e-08\n",
      "28\n",
      "6.039495080872834e-08\n",
      "29\n",
      "6.438243726019078e-08\n",
      "30\n",
      "6.943730995892001e-08\n",
      "31\n",
      "7.569407405737872e-08\n",
      "32\n",
      "8.332803112753743e-08\n",
      "33\n",
      "9.256060885378132e-08\n",
      "34\n",
      "1.036666165746281e-07\n"
     ]
    }
   ],
   "source": [
    "for i in range(0,35):\n",
    "  print(i) \n",
    "  print(false_positive_percentage(i,m,n))"
   ]
  },
  {
   "cell_type": "code",
   "execution_count": 0,
   "metadata": {
    "colab": {},
    "colab_type": "code",
    "id": "FjqsFtJZ5dkG"
   },
   "outputs": [],
   "source": []
  }
 ],
 "metadata": {
  "colab": {
   "collapsed_sections": [],
   "name": "BloomFilter.ipynb",
   "provenance": []
  },
  "kernelspec": {
   "display_name": "Python 3",
   "language": "python",
   "name": "python3"
  },
  "language_info": {
   "codemirror_mode": {
    "name": "ipython",
    "version": 3
   },
   "file_extension": ".py",
   "mimetype": "text/x-python",
   "name": "python",
   "nbconvert_exporter": "python",
   "pygments_lexer": "ipython3",
   "version": "3.7.1"
  }
 },
 "nbformat": 4,
 "nbformat_minor": 1
}
